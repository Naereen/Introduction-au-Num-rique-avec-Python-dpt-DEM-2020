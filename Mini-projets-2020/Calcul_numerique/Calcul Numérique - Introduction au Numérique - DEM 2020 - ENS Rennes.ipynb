{
 "cells": [
  {
   "cell_type": "markdown",
   "metadata": {},
   "source": [
    "# Dernier TP (mini projet) : exemples de calcul numérique\n",
    "\n",
    "Le but de ce mini-projet est de vous faire implémenter manuellement des fonctions Python qui calculent des approximations des fonctions mathématiques suivantes :\n",
    "\n",
    "$$ x \\mapsto \\sqrt{x} $$\n",
    "$$ x \\mapsto \\exp{x} $$\n",
    "$$ x \\mapsto \\cos{x} $$\n",
    "$$ x \\mapsto \\sin{x} $$\n",
    "\n",
    "Pour chaque fonction, je vous donne dans ce document l'algorithme mathématique à appliquer, ainsi qu'un squelette à remplir.\n",
    "Vous pouvez télécharger les fichiers [squelette_sqrt.py](https://perso.crans.org/besson/teach/intro_num_DEM_2020/TP/squelette_sqrt.py), [squelette_exp.py](https://perso.crans.org/besson/teach/intro_num_DEM_2020/TP/squelette_exp.py), [squelette_cossin.py](https://perso.crans.org/besson/teach/intro_num_DEM_2020/TP/squelette_cossin.py) sur le site du cours et le remplir.\n",
    "\n",
    "Notez que les trois fonctions $\\exp,\\cos,\\sin$ seront très proches, une fois que vous en avez fait une les autres se ressembleront beaucoup. Les deux dernières ($\\cos$ et $\\sin$) sont donc des bonus.\n",
    "\n",
    "- Prof : Lilian Besson\n",
    "- Site du cours : [https://perso.crans.org/besson/teach/intro_num_DEM_2020/](https://perso.crans.org/besson/teach/intro_num_DEM_2020/)\n",
    "- Date : mercredi 14/10/2020 et vendredi 16/10/2020."
   ]
  },
  {
   "cell_type": "markdown",
   "metadata": {},
   "source": [
    "----\n",
    "## Racine carrée $x \\mapsto \\sqrt{x}$\n",
    "\n",
    "L'algorithme pour calculer une valeur approchée de la racine carrée d'un nombre réel positif $a$ est le suivant :\n",
    "\n",
    "- on commence par trouver une valeur approchée entière qui soit la plus proche possible. Mathématiquement, on peut calculer par exemple $x_0 = \\lceil \\sqrt{a} \\rceil$ la partie entière supérieure de $\\sqrt{a}$. C'est très rapide avec une simple boucle `while` :\n",
    "\n",
    "```python\n",
    "    sqrt_a_entiere = 0\n",
    "    while sqrt_a_entiere**2 < a:\n",
    "        # tant qu'on peut augmenter sqrt_a_entiere on le fait\n",
    "        sqrt_a_entiere = sqrt_a_entiere + 1\n",
    "    # sqrt_a_entiere est le plus petit entier tel que sqrt_a_entiere**2 >= a\n",
    "    # c'est un bon début pour une valeur approchée sqrt(a) qui deviendra plus précise\n",
    "```\n",
    "\n",
    "- le premier terme de la suite $x_n$ sera ce $x_0$ que l'on vient de calculer (en fait n'importe quelle valeur $x_0>0$ fonctionne mais autant essayer de partir d'une valeur proche de l'objectif),\n",
    "- ensuite on *itère* le calcul suivant : $$x_{n+1} = (x_n + a/x_n) / 2, (\\star)$$ jusqu'à ce que $x_n$ soit assez proche de $\\sqrt{a}$, c'est à dire jusqu'à ce que $|x_n^2 - a|$ soit assez petit (valeur absolue de la différence). (pour les curieux-ses : on dit que la suite $(x_n)$ ($\\star$) est récurrente d'ordre 1, car $x_n$ dépend de $x_{n-1}$ uniquement)\n",
    "- on peut aussi décider à l'avance de s'arrêter après un certain nombre d'itérations, par exemple $N=10$. Cet algorithme est très rapide pour calculer avec une bonne précision les premières décimales - nombres avec la virgule - de la valeur objectif $\\sqrt{a}$, donc même une petite valeur comme $N=10$ suffira !\n",
    "- Note : pour calculer le $n$-ième terme de cette suite récurrente ($\\star$), on n'a pas besoin de stocker toutes les valeurs, donc pas besoin d'imaginer avoir plein de variables $x_0, x_1, x_2, ..., x_n$ ou de les stocker dans une liste. On peut utiliser une seule variable $x_n$ que l'on met à jour. Le calcul est fait avec une simple boucle `while` :\n",
    "\n",
    "```python\n",
    "    N = 10             # nombre maximum d'itérations, peut être plus grand\n",
    "    n = 0              # nombre d'itération, augmente de 1 dans chaque passage du while\n",
    "    x_n = x_0          # valeur initiale de l'approximation x_n de sqrt(a)\n",
    "    while n < N:       # tant qu'on a encore des itérations possibles\n",
    "        x_n = ...          # on applique la formule de la récurrence (⋆)\n",
    "        n = n + 1          # et on continue avec n+1\n",
    "```\n",
    "\n",
    "*Point Culture* : cette méthode numérique est appelée [méthode de Héron](https://fr.wikipedia.org/wiki/M%C3%A9thode_de_H%C3%A9ron), car elle a d'abord été d'abord attribuée au mathématicien grec Héron (1er siècle après J-C), mais elle date de bien plus longtemps, des Babyloniens (-2000 av J-C) et des Égyptiens."
   ]
  },
  {
   "cell_type": "markdown",
   "metadata": {},
   "source": [
    "##### Pour les plus curieux-ses\n",
    "> En fait, cette méthode est un cas particulier d'un algorithme plus générique, qui s'appelle la méthode de Newton (ou Newton-Raphson) pour calculer une approximation d'une solution à une équation de type $g(x) = 0$ pour une fonction \"gentille\" $g$ (ie. continue et dérivable et de dérivée continue).\n",
    "> Appliquer la méthode (générale) de Newton à la fonction objectif $g(x) = x^2 - a$, dont le zéro est $x=\\sqrt{a}$ (en effet $g(x) = 0 \\Leftrightarrow x = \\sqrt{a}$), donne le même algorithme.\n",
    ">\n",
    "> - $x_0$ est pris dans le domaine de $g$ et ensuite on itère $x_{n+1} = x_n - g(x_n) / g'(x_n)$.\n",
    "> - Référence : https://fr.wikipedia.org/wiki/Méthode_de_Newton#Racine_carrée"
   ]
  },
  {
   "cell_type": "markdown",
   "metadata": {},
   "source": [
    "##### L'exercice\n",
    "\n",
    "Inspirez vous du squelette de code ci dessous, où les `...` signifient que vous devez ajouter du code, et écrivez une fonction `sqrt(x)` qui calcule l'algorithme décrit plus haut.\n",
    "\n",
    "Ensuite, testez la avec des valeurs connues :\n",
    "\n",
    "- pour $a$ un entier, `sqrt(a*a)` doit donner $a$ (et vous devez probablement connaître de tête que $\\sqrt{16}=4$, $\\sqrt{25}=5$ etc),\n",
    "- pour $a$ un nombre flottant (réel), `sqrt(a*a)` doit donner $a$."
   ]
  },
  {
   "cell_type": "code",
   "execution_count": 39,
   "metadata": {
    "ExecuteTime": {
     "end_time": "2020-09-27T08:35:52.236211Z",
     "start_time": "2020-09-27T08:35:52.228262Z"
    }
   },
   "outputs": [],
   "source": [
    "def sqrt(a):\n",
    "    \"\"\" Approximation de sqrt(a) avec la méthode de Héron et N=10 étapes.\"\"\"\n",
    "    # 1) calculer une première approximation de sqrt(a)\n",
    "    #    sqrt_a_entiere = ceil(sqrt(a)) (partie entière supérieure)\n",
    "    sqrt_a_entiere = 0.0\n",
    "    x_0 = ...  # valeur initiale\n",
    "\n",
    "    # 2) maintenant la méthode Héron que l'on itère un certain nombre de fois\n",
    "    N = 10  # nombre maximum d'étapes, que l'on peut augmenter\n",
    "            # pour gagner en précision si besoin\n",
    "    n = ...\n",
    "    x_n = x_0\n",
    "    \n",
    "    while n < N:\n",
    "        \n",
    "        # pour voir l'évolution du calcul, décommentez la ligne ci dessous\n",
    "        # c'est à dire enlevez le # en début de ligne\n",
    "        print(\"  Calcul de sqrt(\", a, \"), n =\", n, \"et x_n =\", x_n)\n",
    "        \n",
    "        # maintenant le calcul\n",
    "        n = n + 1\n",
    "        ...   # /!\\ à vous d'écrire quelque chose ici\n",
    "    return x_n"
   ]
  },
  {
   "cell_type": "markdown",
   "metadata": {},
   "source": [
    "##### Exemples avec des valeurs entières"
   ]
  },
  {
   "cell_type": "code",
   "execution_count": 46,
   "metadata": {
    "ExecuteTime": {
     "end_time": "2020-09-27T08:40:15.156509Z",
     "start_time": "2020-09-27T08:40:15.128253Z"
    }
   },
   "outputs": [
    {
     "name": "stdout",
     "output_type": "stream",
     "text": [
      "Calcul de sqrt( 4 ) :\n",
      "  Calcul de sqrt( 4 ), n = 0 et x_n = 2.0\n",
      "  Calcul de sqrt( 4 ), n = 1 et x_n = 2.0\n",
      "  Calcul de sqrt( 4 ), n = 2 et x_n = 2.0\n",
      "  Calcul de sqrt( 4 ), n = 3 et x_n = 2.0\n",
      "  Calcul de sqrt( 4 ), n = 4 et x_n = 2.0\n",
      "  Calcul de sqrt( 4 ), n = 5 et x_n = 2.0\n",
      "  Calcul de sqrt( 4 ), n = 6 et x_n = 2.0\n",
      "  Calcul de sqrt( 4 ), n = 7 et x_n = 2.0\n",
      "  Calcul de sqrt( 4 ), n = 8 et x_n = 2.0\n",
      "  Calcul de sqrt( 4 ), n = 9 et x_n = 2.0\n",
      "Notre fonction sqrt a calculé sqrt(b*b) = 2.0 pour b = 2\n",
      "Calcul de sqrt( 25 ) :\n",
      "  Calcul de sqrt( 25 ), n = 0 et x_n = 5.0\n",
      "  Calcul de sqrt( 25 ), n = 1 et x_n = 5.0\n",
      "  Calcul de sqrt( 25 ), n = 2 et x_n = 5.0\n",
      "  Calcul de sqrt( 25 ), n = 3 et x_n = 5.0\n",
      "  Calcul de sqrt( 25 ), n = 4 et x_n = 5.0\n",
      "  Calcul de sqrt( 25 ), n = 5 et x_n = 5.0\n",
      "  Calcul de sqrt( 25 ), n = 6 et x_n = 5.0\n",
      "  Calcul de sqrt( 25 ), n = 7 et x_n = 5.0\n",
      "  Calcul de sqrt( 25 ), n = 8 et x_n = 5.0\n",
      "  Calcul de sqrt( 25 ), n = 9 et x_n = 5.0\n",
      "Notre fonction sqrt a calculé sqrt(b*b) = 5.0 pour b = 5\n",
      "Calcul de sqrt( 64 ) :\n",
      "  Calcul de sqrt( 64 ), n = 0 et x_n = 8.0\n",
      "  Calcul de sqrt( 64 ), n = 1 et x_n = 8.0\n",
      "  Calcul de sqrt( 64 ), n = 2 et x_n = 8.0\n",
      "  Calcul de sqrt( 64 ), n = 3 et x_n = 8.0\n",
      "  Calcul de sqrt( 64 ), n = 4 et x_n = 8.0\n",
      "  Calcul de sqrt( 64 ), n = 5 et x_n = 8.0\n",
      "  Calcul de sqrt( 64 ), n = 6 et x_n = 8.0\n",
      "  Calcul de sqrt( 64 ), n = 7 et x_n = 8.0\n",
      "  Calcul de sqrt( 64 ), n = 8 et x_n = 8.0\n",
      "  Calcul de sqrt( 64 ), n = 9 et x_n = 8.0\n",
      "Notre fonction sqrt a calculé sqrt(b*b) = 8.0 pour b = 8\n"
     ]
    }
   ],
   "source": [
    "b = 2\n",
    "while b <= 10:\n",
    "    a = b*b\n",
    "    print(\"Calcul de sqrt(\", a, \") :\")\n",
    "    sqrt_a = sqrt(a)\n",
    "    print(\"Notre fonction sqrt a calculé sqrt(b*b) =\", sqrt_a, \"pour b =\", b)\n",
    "    b = b + 3"
   ]
  },
  {
   "cell_type": "markdown",
   "metadata": {},
   "source": [
    "- Question : Commentez.\n",
    "- Question : A-t-on utilisé la formule de mise à jour de $x_n$ (formule de Héron ($\\star$)) pour calculer ces racines carrées ?\n",
    "- Question : Est-ce qu'on aurait pu s'arrêter plus tôt que ces `N=10` itérations de la suite $(\\star$) ?"
   ]
  },
  {
   "cell_type": "markdown",
   "metadata": {},
   "source": [
    "##### Exemples avec des valeurs flottantes"
   ]
  },
  {
   "cell_type": "code",
   "execution_count": 48,
   "metadata": {
    "ExecuteTime": {
     "end_time": "2020-09-27T08:43:33.651429Z",
     "start_time": "2020-09-27T08:43:33.619820Z"
    }
   },
   "outputs": [
    {
     "name": "stdout",
     "output_type": "stream",
     "text": [
      "Calcul de sqrt( 0.25 ) :\n",
      "  Calcul de sqrt( 0.0625 ), n = 0 et x_n = 1.0\n",
      "  Calcul de sqrt( 0.0625 ), n = 1 et x_n = 0.53125\n",
      "  Calcul de sqrt( 0.0625 ), n = 2 et x_n = 0.3244485294117647\n",
      "  Calcul de sqrt( 0.0625 ), n = 3 et x_n = 0.25854154515914013\n",
      "  Calcul de sqrt( 0.0625 ), n = 4 et x_n = 0.25014109529990763\n",
      "  Calcul de sqrt( 0.0625 ), n = 5 et x_n = 0.2500000397933087\n",
      "  Calcul de sqrt( 0.0625 ), n = 6 et x_n = 0.25000000000000316\n",
      "  Calcul de sqrt( 0.0625 ), n = 7 et x_n = 0.25\n",
      "  Calcul de sqrt( 0.0625 ), n = 8 et x_n = 0.25\n",
      "  Calcul de sqrt( 0.0625 ), n = 9 et x_n = 0.25\n",
      "Notre fonction sqrt a calculé sqrt(b*b) = 0.25 pour b = 0.25\n",
      "Calcul de sqrt( 1.75 ) :\n",
      "  Calcul de sqrt( 3.0625 ), n = 0 et x_n = 2.0\n",
      "  Calcul de sqrt( 3.0625 ), n = 1 et x_n = 1.765625\n",
      "  Calcul de sqrt( 3.0625 ), n = 2 et x_n = 1.7500691371681416\n",
      "  Calcul de sqrt( 3.0625 ), n = 3 et x_n = 1.7500000013656454\n",
      "  Calcul de sqrt( 3.0625 ), n = 4 et x_n = 1.75\n",
      "  Calcul de sqrt( 3.0625 ), n = 5 et x_n = 1.75\n",
      "  Calcul de sqrt( 3.0625 ), n = 6 et x_n = 1.75\n",
      "  Calcul de sqrt( 3.0625 ), n = 7 et x_n = 1.75\n",
      "  Calcul de sqrt( 3.0625 ), n = 8 et x_n = 1.75\n",
      "  Calcul de sqrt( 3.0625 ), n = 9 et x_n = 1.75\n",
      "Notre fonction sqrt a calculé sqrt(b*b) = 1.75 pour b = 1.75\n",
      "Calcul de sqrt( 3.25 ) :\n",
      "  Calcul de sqrt( 10.5625 ), n = 0 et x_n = 4.0\n",
      "  Calcul de sqrt( 10.5625 ), n = 1 et x_n = 3.3203125\n",
      "  Calcul de sqrt( 10.5625 ), n = 2 et x_n = 3.250744485294118\n",
      "  Calcul de sqrt( 10.5625 ), n = 3 et x_n = 3.250000085250987\n",
      "  Calcul de sqrt( 10.5625 ), n = 4 et x_n = 3.250000000000001\n",
      "  Calcul de sqrt( 10.5625 ), n = 5 et x_n = 3.25\n",
      "  Calcul de sqrt( 10.5625 ), n = 6 et x_n = 3.25\n",
      "  Calcul de sqrt( 10.5625 ), n = 7 et x_n = 3.25\n",
      "  Calcul de sqrt( 10.5625 ), n = 8 et x_n = 3.25\n",
      "  Calcul de sqrt( 10.5625 ), n = 9 et x_n = 3.25\n",
      "Notre fonction sqrt a calculé sqrt(b*b) = 3.25 pour b = 3.25\n",
      "Calcul de sqrt( 4.75 ) :\n",
      "  Calcul de sqrt( 22.5625 ), n = 0 et x_n = 5.0\n",
      "  Calcul de sqrt( 22.5625 ), n = 1 et x_n = 4.75625\n",
      "  Calcul de sqrt( 22.5625 ), n = 2 et x_n = 4.750004106438896\n",
      "  Calcul de sqrt( 22.5625 ), n = 3 et x_n = 4.750000000001775\n",
      "  Calcul de sqrt( 22.5625 ), n = 4 et x_n = 4.75\n",
      "  Calcul de sqrt( 22.5625 ), n = 5 et x_n = 4.75\n",
      "  Calcul de sqrt( 22.5625 ), n = 6 et x_n = 4.75\n",
      "  Calcul de sqrt( 22.5625 ), n = 7 et x_n = 4.75\n",
      "  Calcul de sqrt( 22.5625 ), n = 8 et x_n = 4.75\n",
      "  Calcul de sqrt( 22.5625 ), n = 9 et x_n = 4.75\n",
      "Notre fonction sqrt a calculé sqrt(b*b) = 4.75 pour b = 4.75\n"
     ]
    }
   ],
   "source": [
    "b = 0.25\n",
    "while b <= 5:\n",
    "    a = b*b\n",
    "    print(\"Calcul de sqrt(\", b, \") :\")\n",
    "    sqrt_a = sqrt(a)\n",
    "    print(\"Notre fonction sqrt a calculé sqrt(b*b) =\", sqrt_a, \"pour b =\", b)\n",
    "    b = b + 1.5"
   ]
  },
  {
   "cell_type": "markdown",
   "metadata": {},
   "source": [
    "Vous pouvez peut-être voir des (petites) erreurs de calcul, avec des exemples pour $a$ flottant."
   ]
  },
  {
   "cell_type": "markdown",
   "metadata": {},
   "source": [
    "##### Une version plus compliquée\n",
    "\n",
    "Ici, je vous donne le code d'un squelette un peu plus compliqué, avec des `...` à remplir aux mêmes endroits.\n",
    "\n",
    "- Question : Expliquer la modification. (`abs(x)` =$|x|$ calcule la valeur absolue de $x$)"
   ]
  },
  {
   "cell_type": "code",
   "execution_count": 49,
   "metadata": {
    "ExecuteTime": {
     "end_time": "2020-09-27T08:47:50.316636Z",
     "start_time": "2020-09-27T08:47:50.309904Z"
    }
   },
   "outputs": [],
   "source": [
    "def sqrt(a):\n",
    "    \"\"\" Approximation de sqrt(a) avec la méthode de Héron et N=10 étapes.\"\"\"\n",
    "    # 1) calculer une première approximation de sqrt(a)\n",
    "    ...  # même code qu'avant pour calculer x_0\n",
    "    \n",
    "    # 2) maintenant la méthode Héron que l'on itère un certain nombre de fois\n",
    "    ...  # même code qu'avant pour initialiser n, N et x_n\n",
    "    \n",
    "    precision = 1e-12   # c'est égal à 10^{-12}, exemple de précision\n",
    "    while abs(x_n**2 - a) > precision and n < N:\n",
    "        # note : abs(x) = |x| calcule la valeur absolue de x\n",
    "        ...  # même code qu'avant pour mettre à jour x_n et n\n",
    "    return x_n"
   ]
  },
  {
   "cell_type": "markdown",
   "metadata": {},
   "source": [
    "- Question : Essayez cette version sur les exemples précédents.\n",
    "- Question : Est-ce qu'elle termine plus rapidement (sans faire des itérations de la suite ($\\star$) inutiles) ?"
   ]
  },
  {
   "cell_type": "markdown",
   "metadata": {},
   "source": [
    "##### Bonus :  calculer $\\sqrt[m]{a}$ pour $m$ entier quelconque\n",
    "\n",
    "Je ne donne pas tous les détails, mais pour calculer une racine $m$-ième au lieu d'une racine carrée, une méthode similaire peut être utilisée :\n",
    "\n",
    "- on commence par trouver une valeur approchée entière qui soit la plus proche possible. Mathématiquement, on calcule $x_0 = \\lceil \\sqrt[m]{a} \\rceil$ la partie entière supérieure de $\\sqrt[m]{a}$ :\n",
    "\n",
    "```python\n",
    "    sqrt_m_a_entiere = 0\n",
    "    while sqrt_m_a_entiere ** m < a:  # **m et plus **2\n",
    "        sqrt_m_a_entiere = sqrt_m_a_entiere + 1\n",
    "```\n",
    "\n",
    "- ensuite on itère le calcul suivant : $x_{n+1} = (1/m) * ((m-1) * x_n + a / x_n^{m-1})$, jusqu'à ce que $x_n$ soit assez proche de $\\sqrt[m]{a}$, c'est à dire jusqu'à ce que $|x_n^m - a|$ soit assez petit (valeur absolue de la différence)."
   ]
  },
  {
   "cell_type": "code",
   "execution_count": 50,
   "metadata": {
    "ExecuteTime": {
     "end_time": "2020-09-27T08:49:29.774460Z",
     "start_time": "2020-09-27T08:49:29.763714Z"
    }
   },
   "outputs": [],
   "source": [
    "def sqrt_generale(x, m):\n",
    "    \"\"\" Approximation de sqrt[m](a) avec la méthode de Héron et N=10 étapes.\"\"\"\n",
    "    # 1) calculer une première approximation de sqrt[m](a)\n",
    "    ...  # même code qu'avant pour calculer x_0\n",
    "    \n",
    "    # 2) maintenant la méthode Héron que l'on itère un certain nombre de fois\n",
    "    ...  # même code qu'avant pour initialiser n, N et x_n\n",
    "    \n",
    "    epsilon = 1e-12   # c'est égal à 10^{-12}\n",
    "    while (x_n**2 - a) > epsilon and n < N:\n",
    "        x_n = ((m-1.0)*x_n + x / x_n**(m-1)) / m\n",
    "        ...  # même code qu'avant pour mettre à jour n\n",
    "    return x_n"
   ]
  },
  {
   "cell_type": "markdown",
   "metadata": {},
   "source": [
    "----\n",
    "## Factorielle $n \\mapsto n!$\n",
    "\n",
    "Pour calculer les fonctions $\\exp, \\cos, \\sin$, on peut avoir besoin de la factorielle, définie comme cela :\n",
    "\n",
    "$$ \\texttt{factorielle}(n) = n! = 1 \\times 2 \\times \\dots \\times n, \\; \\text{si}\\, n \\geq 1$$\n",
    "et $\\texttt{factorielle}(0) = 1$ si $n = 0$ (par convention)."
   ]
  },
  {
   "cell_type": "code",
   "execution_count": 61,
   "metadata": {
    "ExecuteTime": {
     "end_time": "2020-09-27T08:57:05.486427Z",
     "start_time": "2020-09-27T08:57:05.478199Z"
    }
   },
   "outputs": [],
   "source": [
    "def factorielle(n):\n",
    "    \"\"\" Calcul naïf de la factorielle, avec des produits.\"\"\"\n",
    "    if n <= 0:  # si n <= 0 factorielle(n) = 1 par convention\n",
    "        return 1\n",
    "    else:       # sinon n > 0, on calcule avec des produits\n",
    "        fact = 1\n",
    "        i = 2\n",
    "        while i <= n:\n",
    "            # pour l'instant fact = 1 * 2 * ... * (i-1)\n",
    "            fact = ...  # /!\\ à vous d'écrire quelque chose ici\n",
    "            # désormais      fact = 1 * 2 * ... * (i-1) * i\n",
    "            i = i + 1\n",
    "        # finalement fact = 1 * 2 * ... * n comme demandé\n",
    "        return fact"
   ]
  },
  {
   "cell_type": "markdown",
   "metadata": {},
   "source": [
    "Par exemple on peut afficher les premières valeurs :"
   ]
  },
  {
   "cell_type": "code",
   "execution_count": 64,
   "metadata": {
    "ExecuteTime": {
     "end_time": "2020-09-27T08:57:26.612030Z",
     "start_time": "2020-09-27T08:57:26.597904Z"
    }
   },
   "outputs": [
    {
     "name": "stdout",
     "output_type": "stream",
     "text": [
      "Factorielle de 0 = 1\n",
      "Factorielle de 1 = 1\n",
      "Factorielle de 2 = 2\n",
      "Factorielle de 3 = 6\n",
      "Factorielle de 4 = 24\n",
      "Factorielle de 5 = 120\n",
      "Factorielle de 6 = 720\n",
      "Factorielle de 7 = 5040\n",
      "Factorielle de 8 = 40320\n",
      "Factorielle de 9 = 362880\n",
      "Factorielle de 10 = 3628800\n"
     ]
    }
   ],
   "source": [
    "i = 0\n",
    "while i <= 10:\n",
    "    print(\"Factorielle de\", i, \"=\", factorielle(i))\n",
    "    i = i + 1"
   ]
  },
  {
   "cell_type": "markdown",
   "metadata": {},
   "source": [
    "Comme on l'observe ici, la factorielle est une fonction qui grandit *très très* vite !"
   ]
  },
  {
   "cell_type": "markdown",
   "metadata": {},
   "source": [
    "----\n",
    "## Exponentielle $x \\mapsto \\exp(x)$\n",
    "\n",
    "Une des définitions de la fonction exponentielle est la suivante :\n",
    "\n",
    "$$\\exp(x) = \\sum_{n=0}^{+\\infty} \\frac{x^n}{n!} = \\lim_{N \\to +\\infty} \\sum_{n=0}^{N} \\frac{x^n}{n!}$$\n",
    "\n",
    "Vous n'avez normalement pas vu en cours de mathématiques la définition d'une somme infinie comme cela. L'essentiel est de croire que c'est bien définit, et de retenir que cette notation a un sens lorsque les termes successifs sont décroissants et tendent vers $0$ assez vite. (ça peut aussi avoir un sens dans d'autres cas, mais nous n'en parlons pas ici)\n",
    "\n",
    "C'est le cas ici avec le terme général $x^n / n!$ qui tend très vite vers $0$ (en effet la factorielle est une fonction qui grandit très très vite !).\n",
    "\n",
    "Et donc la valeur de la somme infinie est très bien approchée par la somme des quelques premiers termes, inutile d'aller trop loin !\n",
    "\n",
    "On va pouvoir calculer une approximation de $\\exp(x)$ en calculant la somme des $N$ premiers termes, par exemple pour $N=30$ :\n",
    "$$\\exp(x) \\simeq \\sum_{n=0}^{N=30} \\frac{x^n}{n!} = \\frac{x^0}{0!} + \\frac{x^1}{1!} + \\dots + \\frac{x^{30}}{30!}$$\n",
    "\n",
    "Par exemple, pour $x=1$ on peut vérifier que les premiers termes convergent rapidement vers $\\exp(1) = \\mathrm{e} \\simeq = 2.718281...$ :"
   ]
  },
  {
   "cell_type": "code",
   "execution_count": 92,
   "metadata": {
    "ExecuteTime": {
     "end_time": "2020-09-27T09:31:01.271754Z",
     "start_time": "2020-09-27T09:31:01.259145Z"
    }
   },
   "outputs": [
    {
     "name": "stdout",
     "output_type": "stream",
     "text": [
      "1.0\n",
      "2.0\n",
      "2.5\n",
      "2.6666666666666665\n",
      "2.708333333333333\n",
      "2.7166666666666663\n",
      "2.7180555555555554\n",
      "2.7182539682539684\n",
      "2.71827876984127\n",
      "2.7182815255731922\n",
      "Avec 9 termes, on a déjà les 6 premières décimales correctes ~= 2.718281\n"
     ]
    }
   ],
   "source": [
    "x = 1\n",
    "valeur_approchee_de_exp_1 = x**0/factorielle(0)\n",
    "print(valeur_approchee_de_exp_1)\n",
    "valeur_approchee_de_exp_1 += x**1/factorielle(1)\n",
    "print(valeur_approchee_de_exp_1)\n",
    "valeur_approchee_de_exp_1 += x**2/factorielle(2)\n",
    "print(valeur_approchee_de_exp_1)\n",
    "valeur_approchee_de_exp_1 += x**3/factorielle(3)\n",
    "print(valeur_approchee_de_exp_1)\n",
    "valeur_approchee_de_exp_1 += x**4/factorielle(4)\n",
    "print(valeur_approchee_de_exp_1)\n",
    "valeur_approchee_de_exp_1 += x**5/factorielle(5)\n",
    "print(valeur_approchee_de_exp_1)\n",
    "valeur_approchee_de_exp_1 += x**6/factorielle(6)\n",
    "print(valeur_approchee_de_exp_1)\n",
    "valeur_approchee_de_exp_1 += x**7/factorielle(7)\n",
    "print(valeur_approchee_de_exp_1)\n",
    "valeur_approchee_de_exp_1 += x**8/factorielle(8)\n",
    "print(valeur_approchee_de_exp_1)\n",
    "valeur_approchee_de_exp_1 += x**9/factorielle(9)\n",
    "print(valeur_approchee_de_exp_1)\n",
    "# Avec 9 termes, on a déjà les 6 premières décimales correctes ~= 2.718281"
   ]
  },
  {
   "cell_type": "markdown",
   "metadata": {},
   "source": [
    "##### Premier exercice\n",
    "\n",
    "Compléter la fonction ci dessous, et testez la avec $x=1$."
   ]
  },
  {
   "cell_type": "code",
   "execution_count": 68,
   "metadata": {
    "ExecuteTime": {
     "end_time": "2020-09-27T09:02:49.443546Z",
     "start_time": "2020-09-27T09:02:49.434620Z"
    }
   },
   "outputs": [],
   "source": [
    "def exp(x):\n",
    "    \"\"\" Approximation de exp(x) avec sa série calculée aux N=30 premiers termes.\"\"\"\n",
    "    N = 30\n",
    "    n = 1\n",
    "    exp_x = 1.0\n",
    "    while n < N:\n",
    "        # pour l'instant exp_x = x**0/0! + x**1/1! + ... + x**(n-1)/(n-1)!\n",
    "        exp_x = ...  # # /!\\ à vous d'écrire quelque chose ici\n",
    "        # désormais exp_x = x**0/0! + x**1/1! + ... + x**(n-1)/(n-1)! + x**n/n!\n",
    "        n = n + 1\n",
    "    return exp_x"
   ]
  },
  {
   "cell_type": "code",
   "execution_count": 93,
   "metadata": {
    "ExecuteTime": {
     "end_time": "2020-09-27T09:31:38.763443Z",
     "start_time": "2020-09-27T09:31:38.759584Z"
    }
   },
   "outputs": [
    {
     "name": "stdout",
     "output_type": "stream",
     "text": [
      "Notre approximation de exp(1) = 2.7182818284590455\n"
     ]
    }
   ],
   "source": [
    "print(\"Notre approximation de exp(1) =\", exp(1))"
   ]
  },
  {
   "cell_type": "markdown",
   "metadata": {},
   "source": [
    "##### Comparaison avec la fonction `math.exp`\n",
    "\n",
    "Dans le cours, je ne vous ai pas expliqué le concept de module et d'importation de modules.\n",
    "\n",
    "Sans rentrer dans tous les détails, voici à quoi ça sert :\n",
    "\n",
    "- quelqu'un (vous ou les développeurs de Python ou n'importe qui) a écrit du code Python qui réalise certaines fonctionnalités,\n",
    "- si vous souhaitez vous en servir, au lieu de tout réécrire dans votre fichier Python, vous pouvez stocker leur fichier dans le même dossier que votre fichier Python (ou ailleurs, par exemple dans un fichier accessible par Python dans son dossier d'installation),\n",
    "- et on peut demander à Python d'aller lire cet autre fichier, pour en **importer** les fonctionnalités.\n",
    "\n",
    "Par exemple, quand vous avez installez Python sur votre système, un fichier `math.py` a été installé quelque part où Python sait le lire, et on peut l'importer pour avoir accès à des constantes mathématiques ($\\pi$) et des fonctions mathématiques ($\\exp,\\cos$ etc) déjà implémentée par les développeurs de Python."
   ]
  },
  {
   "cell_type": "code",
   "execution_count": 16,
   "metadata": {
    "ExecuteTime": {
     "end_time": "2020-09-27T08:06:57.387053Z",
     "start_time": "2020-09-27T08:06:57.383136Z"
    }
   },
   "outputs": [
    {
     "name": "stdout",
     "output_type": "stream",
     "text": [
      "This module is always available.  It provides access to the\n",
      "mathematical functions defined by the C standard.\n"
     ]
    }
   ],
   "source": [
    "import math\n",
    "# on peut afficher le début de la documentation de ce module\n",
    "print(math.__doc__)"
   ]
  },
  {
   "cell_type": "markdown",
   "metadata": {},
   "source": [
    "Par exemple, il y a la fonction `math.exp` qui calcule l'exponentielle :"
   ]
  },
  {
   "cell_type": "code",
   "execution_count": 17,
   "metadata": {
    "ExecuteTime": {
     "end_time": "2020-09-27T08:08:10.361335Z",
     "start_time": "2020-09-27T08:08:10.352562Z"
    }
   },
   "outputs": [
    {
     "name": "stdout",
     "output_type": "stream",
     "text": [
      "D'après math.exp, exponentielle de 1 = 2.718281828459045\n"
     ]
    }
   ],
   "source": [
    "print(\"D'après math.exp, exponentielle de 1 =\", math.exp(1))"
   ]
  },
  {
   "cell_type": "markdown",
   "metadata": {},
   "source": [
    "Si vous souhaitez lire la documentation d'une fonction, on peut utiliser `help(fonction)` comme cela :\n",
    "\n",
    "Vous pouvez aussi aller regarder la documentation [en ligne](https://docs.python.org/3/library/math.html#math.exp) à l'adresse [https://docs.python.org/3/library/math.html](https://docs.python.org/3/library/math.html)"
   ]
  },
  {
   "cell_type": "code",
   "execution_count": 10,
   "metadata": {
    "ExecuteTime": {
     "end_time": "2020-09-27T08:03:40.892931Z",
     "start_time": "2020-09-27T08:03:40.882319Z"
    }
   },
   "outputs": [
    {
     "name": "stdout",
     "output_type": "stream",
     "text": [
      "Help on built-in function exp in module math:\n",
      "\n",
      "exp(...)\n",
      "    exp(x)\n",
      "    \n",
      "    Return e raised to the power of x.\n",
      "\n"
     ]
    }
   ],
   "source": [
    "help(math.exp)"
   ]
  },
  {
   "cell_type": "markdown",
   "metadata": {},
   "source": [
    "Cela peut donc nous permettre de comparer votre implémentation avec celle du module `math` et de vérifier que le calcul approché de $\\exp(x)$ que vous avez écrit est proche de celui de `math.exp` :"
   ]
  },
  {
   "cell_type": "code",
   "execution_count": 60,
   "metadata": {
    "ExecuteTime": {
     "end_time": "2020-09-27T08:55:13.467127Z",
     "start_time": "2020-09-27T08:55:13.447914Z"
    },
    "scrolled": true
   },
   "outputs": [
    {
     "name": "stdout",
     "output_type": "stream",
     "text": [
      "exp( 1 ) est calculé = 2.7182818284590455 avec notre fonction, et = 2.718281828459045 avec math.exp\n",
      "  soit une précision relative = 1.6337129034990842e-16\n",
      "exp( 2 ) est calculé = 7.389056098930649 avec notre fonction, et = 7.38905609893065 avec math.exp\n",
      "  soit une précision relative = 2.4040375598952704e-16\n",
      "exp( 3 ) est calculé = 20.08553692318766 avec notre fonction, et = 20.085536923187668 avec math.exp\n",
      "  soit une précision relative = 3.5375839763577193e-16\n",
      "exp( 4 ) est calculé = 54.598150033144265 avec notre fonction, et = 54.598150033144236 avec math.exp\n",
      "  soit une précision relative = 5.205617665278107e-16\n",
      "exp( 5 ) est calculé = 148.41315910257657 avec notre fonction, et = 148.4131591025766 avec math.exp\n",
      "  soit une précision relative = 1.915039717654698e-16\n",
      "exp( 6 ) est calculé = 403.4287934927351 avec notre fonction, et = 403.4287934927351 avec math.exp\n",
      "  soit une précision relative = 0.0\n",
      "exp( 7 ) est calculé = 1096.6331584284578 avec notre fonction, et = 1096.6331584284585 avec math.exp\n",
      "  soit une précision relative = 6.220138622355874e-16\n",
      "exp( 8 ) est calculé = 2980.957987041728 avec notre fonction, et = 2980.9579870417283 avec math.exp\n",
      "  soit une précision relative = 1.525507413600789e-16\n",
      "exp( 9 ) est calculé = 8103.083927575384 avec notre fonction, et = 8103.083927575384 avec math.exp\n",
      "  soit une précision relative = 0.0\n"
     ]
    }
   ],
   "source": [
    "for i in range(1, 10):\n",
    "    exp_i = exp(i)\n",
    "    true_exp_i = math.exp(i)\n",
    "    print(\"exp(\", i, \") est calculé =\", exp_i, \"avec notre fonction, et =\", true_exp_i, \"avec math.exp\")\n",
    "    precision_relative = abs(exp_i - true_exp_i) / true_exp_i\n",
    "    print(\"  soit une précision relative =\", precision_relative)"
   ]
  },
  {
   "cell_type": "markdown",
   "metadata": {},
   "source": [
    "##### Note sur les modules\n",
    "Python est fournit par défaut avec plein de modules réalisant des fonctionnalités diverses, comme lire des fichiers CSV ([`csv`](https://docs.python.org/3/library/csv.html)), calculer des statistiques sur des nombres ([`statistics`](https://docs.python.org/3/library/statistics.html), calculer des nombres aléatoires ([`random`](https://docs.python.org/3/library/random.html), envoyer des emails, télécharger des fichiers depuis Internet, et plein d'autres choses (voir [https://docs.python.org/3/library/index.html](https://docs.python.org/3/library/index.html)).\n",
    "\n",
    "Par ailleurs, la communauté des utilisateurs et utilisatrices de Python est très active depuis 20 ans, et des milliers de modules (on dit aussi des paquets ou *packages*) existent.\n",
    "Les plus connus et les plus utilisés sont [`numpy`](https://www.numpy.org) pour calculer efficacement et facilement sur des tableaux de nombres, [`matplotlib`](https://www.matplotlib.org) pour dessiner des graphiques en 2D et en 3D (courbes scientifiques) et plein d'autres. Voir le site [https://pypi.org](https://pypi.org) (Python Package Index).\n",
    "\n",
    "Il existe aussi des packages conçus pour développer des applications web (Django), des jeux vidéos (PyGame, [et d'autres](https://analyticsindiamag.com/top-9-python-frameworks-for-game-development/)), lire et travailler avec des fichiers Excel, etc."
   ]
  },
  {
   "cell_type": "markdown",
   "metadata": {},
   "source": [
    "##### Bonus : une version plus efficace\n",
    "\n",
    "En étant observateur-trice des calculs effectués dans la fonction précédente, on remarque qu'à chaque étape on calcule $x^n$ et $n!$ entièrement.\n",
    "- Mais par définition, si on a la valeur de $x^(n-1)$ (calculée à l'étape $n-1$), calculer $x^n$ se fait comme $x^n = x^(n-1) * x$ plus efficacement qu'en recalculant entièrement $x^n$ (une seule multiplication contre une mise à la puissance).\n",
    "- De même, si on a la valeur de $(n-1)!$ (calculée à l'étape $n-1$), calculer $n!$ se fait comme $n! = (n-1)! * n$, plus efficacement qu'en recalculant entièrement $n!$."
   ]
  },
  {
   "cell_type": "markdown",
   "metadata": {},
   "source": [
    "> ###### Note pour les curieux-ses :\n",
    "> On peut vérifier que le calcul direct de `x**n` est environ trois fois plus lent que le calcul de `y*x` si on a déjà `y=x**(n-1)` (105 ns contre 33 ns sur ma machine, avec par exemple `x = 2.9874` et `n = 40`."
   ]
  },
  {
   "cell_type": "code",
   "execution_count": 69,
   "metadata": {
    "ExecuteTime": {
     "end_time": "2020-09-27T09:04:33.546511Z",
     "start_time": "2020-09-27T09:04:33.539391Z"
    }
   },
   "outputs": [],
   "source": [
    "def exp(x):\n",
    "    \"\"\" Approximation de exp(x) avec sa série calculée aux N=30 premiers termes.\"\"\"\n",
    "    N = 50\n",
    "    n = 1\n",
    "    exp_x = 1.0\n",
    "    # on stocke les calculs de x**n et n! dans deux variables\n",
    "    x_puissance_n = x\n",
    "    factoriel_n   = 1.0\n",
    "    while n < N:\n",
    "        exp_x = exp_x + (x_puissance_n / factoriel_n)\n",
    "        n = n + 1\n",
    "        # on met à jour efficacement ces deux variables\n",
    "        x_puissance_n = x_puissance_n * x\n",
    "        factoriel_n   = factoriel_n * n\n",
    "    return exp_x"
   ]
  },
  {
   "cell_type": "markdown",
   "metadata": {},
   "source": [
    "----\n",
    "## Cosinus et sinus (bonus)"
   ]
  },
  {
   "cell_type": "markdown",
   "metadata": {},
   "source": [
    "### Cosinus\n",
    "Une des définitions de la fonction cosinus est la suivante :\n",
    "\n",
    "$$\\cos(x) = \\sum_{n=0}^{+\\infty} \\frac{(-1)^n * x^{2n}}{(2n)!}$$\n",
    "\n",
    "On va pouvoir calculer une approximation de $\\cos(x)$ en calculant la somme des $N$ premiers termes, par exemple pour $N=30$ :\n",
    "$$\\cos(x) \\simeq \\sum_{n=0}^{N=30} \\frac{(-1)^n x^{2n}}{(2n)!} = \\frac{x^0}{0!} - \\frac{x^2}{2!} + \\dots - \\frac{x^{2*29}}{(2*29)!} + \\frac{x^{2*30}}{(2*30)!}$$\n",
    "\n",
    "\n",
    "- Question : en vous inspirant de votre code pour `exp(x)`, écrire une fonction `cos(x)`.\n",
    "- Sur quelques valeurs que vous connaissez peut-être ($x=0, \\pi/4, \\pi/2$), comparez la avec la fonction `math.sin` (ou avec celle de votre calculatrice)."
   ]
  },
  {
   "cell_type": "code",
   "execution_count": 71,
   "metadata": {
    "ExecuteTime": {
     "end_time": "2020-09-27T09:10:48.307229Z",
     "start_time": "2020-09-27T09:10:48.303248Z"
    }
   },
   "outputs": [],
   "source": [
    "def cos(x):\n",
    "    \"\"\" Approximation de cos(x) avec sa série calculée aux N=30 premiers termes.\"\"\"\n",
    "    N = 30\n",
    "    n = 1\n",
    "    cos_x = 1.0\n",
    "    while n < N:\n",
    "        # pour l'instant cos_x = x**0/0! - x**1/1! +\n",
    "        #  ... + (-1)**(n-1) x**(2*(n-1))/(2*(n-1))!\n",
    "        cos_x = ...  # # /!\\ à vous d'écrire quelque chose ici\n",
    "        # désormais cos_x = x**0/0! - x**1/1! + ...\n",
    "        #  ... + (-1)**(n-1) x**(2*(n-1))/(2*(n-1))! + (-1)**n x**(2*n)/(2*n)!\n",
    "        n = n + 1\n",
    "    return cos_x"
   ]
  },
  {
   "cell_type": "code",
   "execution_count": 81,
   "metadata": {
    "ExecuteTime": {
     "end_time": "2020-09-27T09:13:52.164546Z",
     "start_time": "2020-09-27T09:13:52.157357Z"
    }
   },
   "outputs": [
    {
     "name": "stdout",
     "output_type": "stream",
     "text": [
      "Pour x = 0, cos(x) = 1.0\n",
      "Pour x = pi/4, cos(x) = 0.7071067811865475\n",
      "Pour x = pi/2, cos(x) = 6.092276318286374e-17\n",
      "Pour x = 10*2*pi, cos(x) = 1.0\n",
      "Pour x = 10*2*pi + pi/4, cos(x) = 0.7071067811865493\n",
      "Pour x = 10*2*pi + pi/2, cos(x) = 5.441081652344679e-15\n"
     ]
    }
   ],
   "source": [
    "x = 0\n",
    "print(\"Pour x = 0, cos(x) =\", cos(x))     # expected: 1\n",
    "x = math.pi / 4\n",
    "print(\"Pour x = pi/4, cos(x) =\", cos(x))  # expected: sqrt(2)\n",
    "x = math.pi / 2\n",
    "print(\"Pour x = pi/2, cos(x) =\", cos(x))  # expected: 0\n",
    "\n",
    "x = 10*2*math.pi\n",
    "print(\"Pour x = 10*2*pi, cos(x) =\", cos(x))     # expected: 1\n",
    "x = 10*2*math.pi + math.pi / 4\n",
    "print(\"Pour x = 10*2*pi + pi/4, cos(x) =\", cos(x))  # expected: sqrt(2)\n",
    "x = 10*2*math.pi + math.pi / 2\n",
    "print(\"Pour x = 10*2*pi + pi/2, cos(x) =\", cos(x))  # expected: 0"
   ]
  },
  {
   "cell_type": "markdown",
   "metadata": {},
   "source": [
    "Commentez sur la perte de précision observée entre les deux calculs de $\\cos(\\pi/2)$ et $\\cos(10*2*\\pi + \\pi/2)$ alors que leurs valeurs exactes (mathématiques) sont égales."
   ]
  },
  {
   "cell_type": "markdown",
   "metadata": {},
   "source": [
    "### Sinus\n",
    "Pour la fonction sinus, la définition est très similaire :\n",
    "\n",
    "$$\\sin(x) = \\sum_{n=0}^{+\\infty} \\frac{(-1)^n * x^{2n+1}}{(2n+1)!}$$\n",
    "\n",
    "- Question : en vous inspirant de votre code pour `exp(x)` et `cos(x)`, écrire une fonction `sin(x)`.\n",
    "- Sur quelques valeurs que vous connaissez peut-être ($x=0, \\pi/4, \\pi/2$), comparez la avec la fonction `math.sin` (ou avec celle de votre calculatrice)."
   ]
  },
  {
   "cell_type": "code",
   "execution_count": 71,
   "metadata": {
    "ExecuteTime": {
     "end_time": "2020-09-27T09:10:48.307229Z",
     "start_time": "2020-09-27T09:10:48.303248Z"
    }
   },
   "outputs": [],
   "source": [
    "def sin(x):\n",
    "    \"\"\" Approximation de sin(x) avec sa série calculée aux N=30 premiers termes.\"\"\"\n",
    "    N = 30\n",
    "    n = 1\n",
    "    sin_x = 1.0\n",
    "    while n < N:\n",
    "        # pour l'instant sin_x = x*1/1! - x*3/3! + ...\n",
    "        #  ... + (-1)*(n-1) x*(2*(n-1)+1)/(2*(n-1)+1)!\n",
    "        sin_x = ...  # # /!\\ à vous d'écrire quelque chose ici\n",
    "        # désormais sin_x = x*1/1! - x*3/3! + ...\n",
    "        #  ... + (-1)*(n-1) x*(2*(n-1)+1)/(2*(n-1)+1)! + (-1)*n x*(2*n+1)/(2*n+1)!\n",
    "        n = n + 1\n",
    "    return sin_x"
   ]
  },
  {
   "cell_type": "code",
   "execution_count": 80,
   "metadata": {
    "ExecuteTime": {
     "end_time": "2020-09-27T09:13:33.200218Z",
     "start_time": "2020-09-27T09:13:33.184740Z"
    }
   },
   "outputs": [
    {
     "name": "stdout",
     "output_type": "stream",
     "text": [
      "Pour x = 0, sin(x) = 0.0\n",
      "Pour x = pi/4, sin(x) = 0.7071067811865475\n",
      "Pour x = pi/2, sin(x) = 1.0000000000000002\n",
      "Pour x = 10*2*pi, sin(x) = 0.0\n",
      "Pour x = 10*2*pi + pi/4, sin(x) = 0.7071067811865455\n",
      "Pour x = 10*2*pi + pi/2, sin(x) = 1.0\n"
     ]
    }
   ],
   "source": [
    "x = 0\n",
    "print(\"Pour x = 0, sin(x) =\", sin(x))     # expected: 0\n",
    "x = math.pi / 4\n",
    "print(\"Pour x = pi/4, sin(x) =\", sin(x))  # expected: sqrt(2)\n",
    "x = math.pi / 2\n",
    "print(\"Pour x = pi/2, sin(x) =\", sin(x))  # expected: 1\n",
    "\n",
    "x = 10*2*math.pi\n",
    "print(\"Pour x = 10*2*pi, sin(x) =\", sin(x))     # expected: 0\n",
    "x = 10*2*math.pi + math.pi / 4\n",
    "print(\"Pour x = 10*2*pi + pi/4, sin(x) =\", sin(x))  # expected: sqrt(2)\n",
    "x = 10*2*math.pi + math.pi / 2\n",
    "print(\"Pour x = 10*2*pi + pi/2, sin(x) =\", sin(x))  # expected: 1"
   ]
  },
  {
   "cell_type": "markdown",
   "metadata": {},
   "source": [
    "## Conclusion\n",
    "\n",
    "J'espère que cette activité vous aura plu."
   ]
  }
 ],
 "metadata": {
  "kernelspec": {
   "display_name": "Python 3",
   "language": "python",
   "name": "python3"
  },
  "language_info": {
   "codemirror_mode": {
    "name": "ipython",
    "version": 3
   },
   "file_extension": ".py",
   "mimetype": "text/x-python",
   "name": "python",
   "nbconvert_exporter": "python",
   "pygments_lexer": "ipython3",
   "version": "3.6.9"
  },
  "toc": {
   "base_numbering": 1,
   "nav_menu": {},
   "number_sections": true,
   "sideBar": true,
   "skip_h1_title": false,
   "title_cell": "Table of Contents",
   "title_sidebar": "Contents",
   "toc_cell": false,
   "toc_position": {
    "height": "calc(100% - 180px)",
    "left": "10px",
    "top": "150px",
    "width": "195.5px"
   },
   "toc_section_display": true,
   "toc_window_display": true
  },
  "varInspector": {
   "cols": {
    "lenName": 16,
    "lenType": 16,
    "lenVar": 40
   },
   "kernels_config": {
    "python": {
     "delete_cmd_postfix": "",
     "delete_cmd_prefix": "del ",
     "library": "var_list.py",
     "varRefreshCmd": "print(var_dic_list())"
    },
    "r": {
     "delete_cmd_postfix": ") ",
     "delete_cmd_prefix": "rm(",
     "library": "var_list.r",
     "varRefreshCmd": "cat(var_dic_list()) "
    }
   },
   "position": {
    "height": "399.35px",
    "left": "-4.5px",
    "right": "20px",
    "top": "386px",
    "width": "281.5px"
   },
   "types_to_exclude": [
    "module",
    "function",
    "builtin_function_or_method",
    "instance",
    "_Feature"
   ],
   "window_display": false
  }
 },
 "nbformat": 4,
 "nbformat_minor": 4
}
